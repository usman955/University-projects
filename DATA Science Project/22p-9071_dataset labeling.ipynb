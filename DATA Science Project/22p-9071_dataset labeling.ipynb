{
 "cells": [
  {
   "cell_type": "markdown",
   "id": "1ab98aa5-1121-43d6-950c-1288562af33e",
   "metadata": {},
   "source": [
    " ## DATA LABELING CODE                                                            \n",
    "   ## M.USMAN\n",
    "   ## 22P-9071\n",
    "   ## BCS-6A"
   ]
  },
  {
   "cell_type": "code",
   "execution_count": 9,
   "id": "ab0bb6e0-ad0f-49c0-8c72-88342606f3e5",
   "metadata": {},
   "outputs": [
    {
     "name": "stdout",
     "output_type": "stream",
     "text": [
      "Saved metadata.csv with 72 entries.\n"
     ]
    }
   ],
   "source": [
    "import os\n",
    "import pandas as pd\n",
    "\n",
    "image_folder = \"spirals\"\n",
    "data = []\n",
    "\n",
    "for filename in os.listdir(image_folder):\n",
    "    if filename.endswith(\".png\") or filename.endswith(\".jpg\"):\n",
    "        if \"PE\" in filename:\n",
    "            label = 1\n",
    "        else:\n",
    "            label = 0\n",
    "        data.append({\"filename\": filename, \"label\": label})\n",
    "\n",
    "df = pd.DataFrame(data)\n",
    "df.to_csv(\"metadata.csv\", index=False)\n",
    "print(\"Saved metadata.csv with\", len(df), \"entries.\")\n"
   ]
  }
 ],
 "metadata": {
  "kernelspec": {
   "display_name": "Python 3 (ipykernel)",
   "language": "python",
   "name": "python3"
  },
  "language_info": {
   "codemirror_mode": {
    "name": "ipython",
    "version": 3
   },
   "file_extension": ".py",
   "mimetype": "text/x-python",
   "name": "python",
   "nbconvert_exporter": "python",
   "pygments_lexer": "ipython3",
   "version": "3.13.1"
  }
 },
 "nbformat": 4,
 "nbformat_minor": 5
}
